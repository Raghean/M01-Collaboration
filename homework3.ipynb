{
 "cells": [
  {
   "cell_type": "code",
   "execution_count": 5,
   "id": "53454e3b",
   "metadata": {},
   "outputs": [
    {
     "name": "stdout",
     "output_type": "stream",
     "text": [
      "Enter a number to guess the secret number:  7\n",
      "Just Right\n"
     ]
    }
   ],
   "source": [
    "secret_number= 7\n",
    "guess_number= 5\n",
    "guess_number= int(input(\"Enter a number to guess the secret number:  \"))\n",
    "if guess_number < secret_number:\n",
    "    print(\"Your guess is to low\")\n",
    "elif guess_number > secret_number:\n",
    "    print(\"Your guess is to high\")\n",
    "elif guess_number == secret_number:\n",
    "    print(\"Just Right\")"
   ]
  },
  {
   "cell_type": "code",
   "execution_count": 2,
   "id": "95bc2e05",
   "metadata": {},
   "outputs": [
    {
     "name": "stdout",
     "output_type": "stream",
     "text": [
      "It is a watermelon and a pea\n"
     ]
    }
   ],
   "source": [
    "green = True\n",
    "small = True\n",
    "if green:\n",
    "    if small:\n",
    "        print(\"It is a watermelon and a pea\")\n",
    "    else:\n",
    "        print(\"It is a pumpkin, or a cherry\")\n",
    "else:\n",
    "    if small:\n",
    "        print(\"It is a pea, and a cherry\")\n",
    "    else:\n",
    "        print(\"It is a pumpkin, or a cherry\")"
   ]
  },
  {
   "cell_type": "code",
   "execution_count": 3,
   "id": "c53df69e",
   "metadata": {},
   "outputs": [
    {
     "name": "stdout",
     "output_type": "stream",
     "text": [
      "3\n",
      "2\n",
      "1\n",
      "0\n"
     ]
    },
    {
     "data": {
      "text/plain": [
       "[3, 2, 1, 0]"
      ]
     },
     "execution_count": 3,
     "metadata": {},
     "output_type": "execute_result"
    }
   ],
   "source": [
    "for x in range(3, -1, -1):\n",
    "    print(x)\n",
    "    \n",
    "list( range(3, -1, -1) )"
   ]
  },
  {
   "cell_type": "code",
   "execution_count": null,
   "id": "8aefab63",
   "metadata": {},
   "outputs": [],
   "source": [
    "guess_me = 7\n",
    "number = 1\n",
    "guess_me = int(input(\"Enter a number: \"))\n",
    "print()\n",
    "while guess_me > number:\n",
    "    if number < guess_me:\n",
    "        print('Too low' , number)\n",
    "        break\n",
    "    elif number > guess_me:\n",
    "        print('oops' , number)\n",
    "else:\n",
    "    print('Found It' , guess_me)"
   ]
  }
 ],
 "metadata": {
  "kernelspec": {
   "display_name": "Python 3 (ipykernel)",
   "language": "python",
   "name": "python3"
  },
  "language_info": {
   "codemirror_mode": {
    "name": "ipython",
    "version": 3
   },
   "file_extension": ".py",
   "mimetype": "text/x-python",
   "name": "python",
   "nbconvert_exporter": "python",
   "pygments_lexer": "ipython3",
   "version": "3.9.12"
  }
 },
 "nbformat": 4,
 "nbformat_minor": 5
}
